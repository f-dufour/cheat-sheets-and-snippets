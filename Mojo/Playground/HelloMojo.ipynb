{
 "cells": [
  {
   "cell_type": "markdown",
   "metadata": {},
   "source": [
    "# Hello, Mojo🔥"
   ]
  },
  {
   "cell_type": "markdown",
   "metadata": {},
   "source": [
    "We're excited to introduce you to Mojo with this interactive notebook!\n",
    "\n",
    "Mojo is designed as a superset of Python, so a lot of language features and\n",
    "functions are the same. For instance, a \"hello world\" program in Mojo looks\n",
    "exactly like it does in Python:"
   ]
  },
  {
   "cell_type": "code",
   "execution_count": null,
   "metadata": {
    "vscode": {
     "languageId": "python"
    }
   },
   "outputs": [],
   "source": [
    "print(\"Hello Mojo!\")"
   ]
  },
  {
   "cell_type": "markdown",
   "metadata": {},
   "source": [
    "And as we'll show later, you can also import existing Python packages and use\n",
    "them like you're used to.\n",
    "\n",
    "But Mojo provides a ton of powerful features on top of Python,\n",
    "so that's what we'll focus on in this notebook. \n",
    "\n",
    "To be clear, this guide is not your traditional introduction to a programming\n",
    "language. This notebook assumes you're already familiar Python and some systems\n",
    "programming concepts so we can focus on what's special about Mojo.\n",
    "\n",
    "This runnable notebook is actually based on the [Mojo programming\n",
    "manual](https://docs.modular.com/mojo/programming-manual.html), but we've\n",
    "simplified a bunch of the explanation so you can focus on playing with the\n",
    "code. If you want to learn more about a topic, refer to the complete manual.\n",
    "\n",
    "Let's get started!"
   ]
  },
  {
   "cell_type": "markdown",
   "metadata": {},
   "source": [
    "<div class=\"alert alert-info\">\n",
    "<b>Note:</b> The cloud environment running these notebooks is not very\n",
    "powerful and the number of vCPU cores available to you may vary. However, as\n",
    "you will see in the <code>Matmul.ipynb</code> notebook, Mojo's relative\n",
    "performance over Python is significant.\n",
    "</div>"
   ]
  },
  {
   "cell_type": "markdown",
   "metadata": {},
   "source": [
    "## Basic systems programming extensions"
   ]
  },
  {
   "cell_type": "markdown",
   "metadata": {},
   "source": [
    "Python doesn't natively support systems programming, so here's how we do\n",
    "it in Mojo."
   ]
  },
  {
   "cell_type": "markdown",
   "metadata": {},
   "source": [
    "### `let` and `var` declarations"
   ]
  },
  {
   "cell_type": "markdown",
   "metadata": {},
   "source": [
    "Inside a function, you can assign values to a name and it implicitly creates a\n",
    "function-scope variable just like in Python. This provides a very dynamic and\n",
    "low ceremony way to write code, but it is also a challenge for two reasons:\n",
    "\n",
    "1) Systems programmers often want to declare that a value is immutable.\n",
    "2) They may want to get an error if they mistype a variable name in an\n",
    "assignment.\n",
    "\n",
    "To support this, Mojo supports `let` and `var` declarations, which introduce a\n",
    "new scoped runtime value: `let` is immutable and `var` is mutable. These\n",
    "values use lexical scoping and support name shadowing:"
   ]
  },
  {
   "cell_type": "code",
   "execution_count": null,
   "metadata": {
    "vscode": {
     "languageId": "python"
    }
   },
   "outputs": [],
   "source": [
    "def your_function(a, b):\n",
    "    let c = a\n",
    "    # Uncomment to see an error:\n",
    "    # c = b  # error: c is immutable\n",
    "\n",
    "    if c != b:\n",
    "        let d = b\n",
    "        print(d)\n",
    "\n",
    "your_function(2, 3)"
   ]
  },
  {
   "cell_type": "markdown",
   "metadata": {},
   "source": [
    "`let` and `var` declarations also support type specifiers, patterns,\n",
    "and late initialization:"
   ]
  },
  {
   "cell_type": "code",
   "execution_count": null,
   "metadata": {
    "vscode": {
     "languageId": "python"
    }
   },
   "outputs": [],
   "source": [
    "def your_function():\n",
    "    let x: Int = 42\n",
    "    let y: F64 = 17.0\n",
    "\n",
    "    let z: F32\n",
    "    if x != 0:\n",
    "        z = 1.0\n",
    "    else:\n",
    "        z = foo()\n",
    "    print(z)\n",
    "\n",
    "def foo() -> F32:\n",
    "    return 3.14\n",
    "\n",
    "your_function()"
   ]
  },
  {
   "cell_type": "markdown",
   "metadata": {},
   "source": [
    "### `struct` types"
   ]
  },
  {
   "cell_type": "markdown",
   "metadata": {},
   "source": [
    "Modern systems programming requires the ability to build high-level and safe\n",
    "abstractions on top of low-level data layout controls, indirection-free field\n",
    "access, and other niche tricks. Mojo provides that with the `struct` type.\n",
    "\n",
    "`struct` types are similar in many ways to classes. However, where classes are\n",
    "extremely dynamic with dynamic dispatch, dynamic method swizzling, and\n",
    "dynamically bound instance properties, structs are static, bound at compile\n",
    "time, and are inlined into their container instead of being implicitly indirect\n",
    "and reference counted.\n",
    "\n",
    "Here’s a simple definition of a struct:"
   ]
  },
  {
   "cell_type": "code",
   "execution_count": null,
   "metadata": {
    "vscode": {
     "languageId": "python"
    }
   },
   "outputs": [],
   "source": [
    "struct MyPair:\n",
    "    var first: Int\n",
    "    var second: Int\n",
    "\n",
    "    # We use 'fn' instead of 'def' here - we'll explain that soon\n",
    "    fn __init__(self&, first: Int, second: Int):\n",
    "        self.first = first\n",
    "        self.second = second\n",
    "\n",
    "    fn __lt__(self, rhs: MyPair) -> Bool:\n",
    "        return self.first < rhs.first or\n",
    "              (self.first == rhs.first and\n",
    "               self.second < rhs.second)"
   ]
  },
  {
   "cell_type": "markdown",
   "metadata": {},
   "source": [
    "The biggest difference compared to a `class` is that all instance properties in\n",
    "a `struct` **must** be explicitly declared with a `var` or `let` declaration.\n",
    "This allows the Mojo compiler to layout and access property values\n",
    "precisely in memory without indirection or other overhead.\n",
    "\n",
    "Struct fields are bound statically: they aren't looked up with a dictionary\n",
    "indirection. As such, you cannot `del` a method or reassign it at runtime. This\n",
    "enables the Mojo compiler to perform guaranteed static dispatch, use guaranteed\n",
    "static access to fields, and inline a struct into the stack frame or enclosing\n",
    "type that uses it without indirection or other overheads."
   ]
  },
  {
   "cell_type": "markdown",
   "metadata": {},
   "source": [
    "### Strong type checking"
   ]
  },
  {
   "cell_type": "markdown",
   "metadata": {},
   "source": [
    "Although you can still use dynamic types just like in Python, Mojo also allows\n",
    "you to use strong type checking in your program. \n",
    "\n",
    "One of the primary ways to employ strong type checking is with Mojo's `struct`\n",
    "type. A `struct` definition in Mojo defines a compile-time-bound name, and\n",
    "references to that name in a type context are treated as a strong specification\n",
    "for the value being defined. For example, consider the following code that uses\n",
    "the `MyPair` struct shown above:"
   ]
  },
  {
   "cell_type": "code",
   "execution_count": null,
   "metadata": {
    "vscode": {
     "languageId": "python"
    }
   },
   "outputs": [],
   "source": [
    "def pairTest() -> Bool:\n",
    "    let p = MyPair(1, 2)\n",
    "    # Uncomment to see an error:\n",
    "    # return p < 4 # gives a compile time error\n",
    "    return True"
   ]
  },
  {
   "cell_type": "markdown",
   "metadata": {},
   "source": [
    "If you uncomment the first return statement and run it, you’ll get a\n",
    "compile-time error telling you that `4` cannot be converted to `MyPair`, which\n",
    "is what the RHS of `__lt__` requires (in the `MyPair` definition).\n"
   ]
  },
  {
   "cell_type": "markdown",
   "metadata": {},
   "source": [
    "### Overloaded functions & methods"
   ]
  },
  {
   "cell_type": "markdown",
   "metadata": {},
   "source": [
    "Also just like Python, you can define functions in Mojo without specifying\n",
    "argument types and let Mojo infer the data types. But when you want to ensure\n",
    "type safety, Mojo also offers full support for overloaded functions and\n",
    "methods.\n",
    "\n",
    "Essentially, this allows you to define multiple functions with the same name\n",
    "but with different arguments. This is a common feature seen in many languages\n",
    "such as C++, Java, and Swift.\n",
    "\n",
    "Let’s look at an example:"
   ]
  },
  {
   "cell_type": "code",
   "execution_count": null,
   "metadata": {
    "vscode": {
     "languageId": "python"
    }
   },
   "outputs": [],
   "source": [
    "struct Complex:\n",
    "    var re: F32\n",
    "    var im: F32\n",
    "\n",
    "    fn __init__(self&, x: F32):\n",
    "        \"\"\"Construct a complex number given a real number.\"\"\"\n",
    "        self.re = x\n",
    "        self.im = 0.0\n",
    "\n",
    "    fn __init__(self&, r: F32, i: F32):\n",
    "        \"\"\"Construct a complex number given its real and imaginary components.\"\"\"\n",
    "        self.re = r\n",
    "        self.im = i"
   ]
  },
  {
   "cell_type": "markdown",
   "metadata": {},
   "source": [
    "You can implement overloads anywhere you want: for module functions and for\n",
    "methods in a class or a struct.\n",
    "\n",
    "Mojo doesn't support overloading solely on result type, and doesn't use result\n",
    "type or contextual type information for type inference, keeping things simple,\n",
    "fast, and predictable. Mojo will never produce an \"expression too complex\"\n",
    "error, because its type-checker is simple and fast by definition."
   ]
  },
  {
   "cell_type": "markdown",
   "metadata": {},
   "source": [
    "### `fn` definitions"
   ]
  },
  {
   "cell_type": "markdown",
   "metadata": {},
   "source": [
    "The extensions above are the cornerstone that provides low-level programming\n",
    "and provide abstraction capabilities, but many systems programmers prefer more\n",
    "control and predictability than what `def` in Mojo provides. To recap, `def` is\n",
    "defined by necessity to be very dynamic, flexible and generally compatible with\n",
    "Python: arguments are mutable, local variables are implicitly declared on first\n",
    "use, and scoping isn’t enforced. This is great for high level programming and\n",
    "scripting, but is not always great for systems programming. To complement this,\n",
    "Mojo provides an `fn` declaration which is like a “strict mode” for `def`.\n",
    "\n",
    "`fn` and `def` are always interchangeable from an interface level: there is\n",
    "nothing a `def` can provide that a `fn` cannot (or vice versa). The\n",
    "difference is that a `fn` is more limited and controlled on the _inside_ of\n",
    "its body (alternatively: pedantic and strict). Specifically, `fn`s have a\n",
    "number of limitations compared to `def`s:\n",
    "\n",
    "1. Argument values default to being immutable in the body of the function (like\n",
    "a `let`), instead of mutable (like a `var`). This catches accidental\n",
    "mutations, and permits the use of non-copyable types as arguments.\n",
    "\n",
    "2. Argument values require a type specification (except for `self` in a\n",
    "method), catching accidental omission of type specifications. Similarly, a\n",
    "missing return type specifier is interpreted as returning `None` instead of an\n",
    "unknown return type. Note that both can be explicitly declared to return\n",
    "`object`, which allows one to opt-in to the behavior of a `def` if desired.\n",
    "\n",
    "3. Implicit declaration of local variables is disabled, so all locals must be\n",
    "declared. This catches name typos and dovetails with the scoping provided by\n",
    "`‘let’` and `‘var’`.\n",
    "\n",
    "4. Both support raising exceptions, but this must be explicitly declared on a\n",
    "`‘fn’` with the `raises` function effect, placed after the function argument\n",
    "list."
   ]
  },
  {
   "cell_type": "markdown",
   "metadata": {},
   "source": [
    "### The `__copyinit__` and `__moveinit__` special methods"
   ]
  },
  {
   "cell_type": "markdown",
   "metadata": {},
   "source": [
    "Mojo supports full \"value semantics\" as seen in languages like C++ and Swift,\n",
    "and it makes defining simple aggregates of fields very easy with its `@value`\n",
    "decorator (described in more detail in the [Programming Manual](https://docs.modular.com/mojo/programming-manual.html)).\n",
    "\n",
    "For advanced use cases, Mojo allows you to define custom constructors (using\n",
    "Python's existing `__init__` special method), custom destructors (using the\n",
    "existing `__del__` special method) and custom copy and move constructors using\n",
    "the new `__copyinit__` and `__moveinit__` special methods.\n",
    "\n",
    "These low-level customization hooks can be useful when doing low level systems\n",
    "programming, e.g. with manual memory management. For example, consider a heap\n",
    "array type that needs to allocate memory for the data when constructed and\n",
    "destroy it when the value is destroyed:"
   ]
  },
  {
   "cell_type": "code",
   "execution_count": 1,
   "metadata": {
    "vscode": {
     "languageId": "python"
    }
   },
   "outputs": [],
   "source": [
    "from Pointer import Pointer\n",
    "from IO import print_no_newline\n",
    "\n",
    "struct HeapArray:\n",
    "    var data: Pointer[Int]\n",
    "    var size: Int\n",
    "    var cap: Int\n",
    "\n",
    "    # StringRef has a data + length field\n",
    "    fn __init__(self&):\n",
    "        self.cap = 16\n",
    "        self.size = 0\n",
    "        self.data = Pointer[Int].alloc(self.cap)\n",
    "\n",
    "    fn __init__(self&, size: Int, val: Int):\n",
    "        self.cap = size * 2\n",
    "        self.size = size\n",
    "        self.data = Pointer[Int].alloc(self.cap)\n",
    "        for i in range(self.size):\n",
    "            self.data.store(i, val)\n",
    "     \n",
    "    fn __del__(owned self):\n",
    "        self.data.free()\n",
    "\n",
    "    fn dump(self):\n",
    "        print_no_newline(\"[\")\n",
    "        for i in range(self.size):\n",
    "            if i > 0:\n",
    "                print_no_newline(\", \")\n",
    "            print_no_newline(self.data.load(i))\n",
    "        print(\"]\")"
   ]
  },
  {
   "cell_type": "markdown",
   "metadata": {},
   "source": [
    "This array type is implemented using low level functions to show a simple\n",
    "example of how this works. However, if you go ahead and try this out, you might\n",
    "be surprised:"
   ]
  },
  {
   "cell_type": "code",
   "execution_count": 2,
   "metadata": {
    "vscode": {
     "languageId": "python"
    }
   },
   "outputs": [
    {
     "name": "stdout",
     "output_type": "stream",
     "text": [
      "[1, 1, 1]\n",
      "[2, 2, 2, 2]\n",
      "[1, 1, 1]\n"
     ]
    }
   ],
   "source": [
    "var a = HeapArray(3, 1)\n",
    "a.dump()   # Should print [1, 1, 1]\n",
    "# Uncomment to see an error:\n",
    "# var b = a  # ERROR: Vector doesn't implement __copyinit__\n",
    "\n",
    "var b = HeapArray(4, 2)\n",
    "b.dump()   # Should print [2, 2, 2, 2]\n",
    "a.dump()   # Should print [1, 1, 1]"
   ]
  },
  {
   "cell_type": "markdown",
   "metadata": {},
   "source": [
    "The compiler isn’t allowing us to make a copy of our array: `HeapArray` contains\n",
    "an instance of `Pointer` (which is equivalent to a low-level C pointer), and Mojo\n",
    "can’t know “what the pointer means” or “how to copy it” - this is one reason\n",
    "why application level programmers should use higher level types like arrays and\n",
    "slices! More generally, some types (like atomic numbers) cannot be copied or\n",
    "moved around at all, because their address provides an **identity** just like a\n",
    "class instance does.\n",
    "\n",
    "In this case, we do want our array to be copyable around, and to enable this, we\n",
    "implement the `__copyinit__` special method, which conventionally looks like this:"
   ]
  },
  {
   "cell_type": "code",
   "execution_count": 3,
   "metadata": {
    "vscode": {
     "languageId": "python"
    }
   },
   "outputs": [],
   "source": [
    "struct HeapArray:\n",
    "    var data: Pointer[Int]\n",
    "    var size: Int\n",
    "    var cap: Int\n",
    "\n",
    "    # StringRef has a data + length field\n",
    "    fn __init__(self&):\n",
    "        self.cap = 16\n",
    "        self.size = 0\n",
    "        self.data = Pointer[Int].alloc(self.cap)\n",
    "\n",
    "    fn __init__(self&, size: Int, val: Int):\n",
    "        self.cap = size * 2\n",
    "        self.size = size\n",
    "        self.data = Pointer[Int].alloc(self.cap)\n",
    "        for i in range(self.size):\n",
    "            self.data.store(i, val)\n",
    "\n",
    "    fn __copyinit__(self&, other: Self):\n",
    "        self.cap = other.cap\n",
    "        self.size = other.size\n",
    "        self.data = Pointer[Int].alloc(self.cap)\n",
    "        for i in range(self.size):\n",
    "            self.data.store(i, other.data.load(i))\n",
    "            \n",
    "    fn __del__(owned self):\n",
    "        self.data.free()\n",
    "\n",
    "    fn dump(self):\n",
    "        print_no_newline(\"[\")\n",
    "        for i in range(self.size):\n",
    "            if i > 0:\n",
    "                print_no_newline(\", \")\n",
    "            print_no_newline(self.data.load(i))\n",
    "        print(\"]\")\n"
   ]
  },
  {
   "cell_type": "markdown",
   "metadata": {},
   "source": [
    "With this implementation, our code above works correctly and the `b = a` copy\n",
    "produces a logically distinct instance of the array with its own lifetime and\n",
    "data. Mojo also supports the `__moveinit__` method which allows both\n",
    "Rust-style moves (which take a value when a lifetime ends) and C++-style moves\n",
    "(where the contents of a value is removed but the destructor still runs), and\n",
    "allows defining custom move logic.  Please see the \"Value Lifecycle\" document\n",
    "for more information."
   ]
  },
  {
   "cell_type": "code",
   "execution_count": 4,
   "metadata": {
    "vscode": {
     "languageId": "python"
    }
   },
   "outputs": [
    {
     "name": "stdout",
     "output_type": "stream",
     "text": [
      "[1, 1, 1]\n",
      "[1, 1, 1]\n",
      "[1, 1, 1]\n"
     ]
    }
   ],
   "source": [
    "var a = HeapArray(3, 1)\n",
    "a.dump()   # Should print [1, 1, 1]\n",
    "# This is no longer an error:\n",
    "# Uncomment to see an error:\n",
    "var b = a  # ERROR: Vector doesn't implement __copyinit__\n",
    "\n",
    "# var b = HeapArray(4, 2)\n",
    "b.dump()   # Should print [2, 2, 2, 2]\n",
    "a.dump()   # Should print [1, 1, 1]\n"
   ]
  },
  {
   "cell_type": "markdown",
   "metadata": {},
   "source": [
    "\n",
    "Mojo provides full control over the lifetime of a value, including the ability\n",
    "to make types copyable, move-only, and not-movable. This is more control than\n",
    "languages like Swift and Rust, which require values to at least be movable. If\n",
    "you are curious how `existing` can be passed into the `__copyinit__` method\n",
    "without itself creating a copy, check out the section on \"Borrowed\" argument\n",
    "convention below."
   ]
  },
  {
   "cell_type": "markdown",
   "metadata": {},
   "source": [
    "## Parameterization: compile time meta-programming"
   ]
  },
  {
   "cell_type": "markdown",
   "metadata": {},
   "source": [
    "Mojo supports a full compile-time metaprogramming functionality built into the\n",
    "compiler as a separate stage of compilation - after parsing, semantic analysis,\n",
    "and IR generation, but before lowering to target-specific code. It uses the same\n",
    "host language for runtime programs as it does for metaprograms, and leverages\n",
    "MLIR to represent and evaluate these programs in a predictable way.\n",
    "\n",
    "Let’s take a look at some simple examples."
   ]
  },
  {
   "cell_type": "markdown",
   "metadata": {},
   "source": [
    "### Defining parameterized types and functions"
   ]
  },
  {
   "cell_type": "markdown",
   "metadata": {},
   "source": [
    "Mojo structs and functions may each be parameterized, but an example can help\n",
    "motivate why we care. Let’s look at a\n",
    "“[SIMD](https://en.wikipedia.org/wiki/Single_instruction,_multiple_data)” type,\n",
    "which represents a low-level vector register in hardware that holds multiple\n",
    "instances of a scalar data-type. Hardware accelerators these days are getting\n",
    "exotic datatypes, and it isn’t uncommon to work with CPUs that have 512-bit or\n",
    "longer SIMD vectors. There is a lot of diversity in hardware (including many\n",
    "brands like SSE, AVX-512, NEON, SVE, RVV, etc) but many operations are common\n",
    "and used by numerics and ML kernel developers - this type exposes them to Mojo\n",
    "programmers.\n",
    "\n",
    "Here is very simplified and cut down version of the SIMD API from the Mojo\n",
    "standard library. We use `HeapArray` to store the SIMD data for this example and\n",
    "implement basic operations on our type using loops - we do that simply to mimic\n",
    "the desired SIMD type behavior for the sake of demonstration. The real Stdlib\n",
    "implementation is backed by real SIMD instructions which are accessed through\n",
    "Mojo's ability to use MLIR directly (see more on that topic in \"Advanced Mojo\n",
    "Features\" section)."
   ]
  },
  {
   "cell_type": "code",
   "execution_count": 5,
   "metadata": {
    "vscode": {
     "languageId": "python"
    }
   },
   "outputs": [],
   "source": [
    "from List import VariadicList\n",
    "\n",
    "struct MySIMD[size: Int]:\n",
    "    var value: HeapArray\n",
    "\n",
    "    # Create a new SIMD from a number of scalars\n",
    "    fn __init__(self&, *elems: Int):\n",
    "        self.value = HeapArray(size, 0)\n",
    "        let elems_list = VariadicList(elems)\n",
    "        for i in range(elems_list.__len__()):\n",
    "            self[i] = elems_list[i]\n",
    "\n",
    "    fn __copyinit__(self&, other: MySIMD[size]):\n",
    "        self.value = other.value\n",
    "\n",
    "    fn __getitem__(self, i: Int) -> Int:\n",
    "        return self.value.data.load(i)\n",
    "    \n",
    "    fn __setitem__(self, i: Int, val: Int):\n",
    "        return self.value.data.store(i, val)\n",
    "\n",
    "    # Fill a SIMD with a duplicated scalar value.\n",
    "    fn splat(self, x: Int) -> Self:\n",
    "        for i in range(size):\n",
    "            self[i] = x\n",
    "        return self\n",
    "\n",
    "    # Many standard operators are supported.\n",
    "    fn __add__(self, rhs: MySIMD[size]) -> MySIMD[size]:\n",
    "        let result = MySIMD[size]()\n",
    "        for i in range(size):\n",
    "            result[i] = self[i] + rhs[i]\n",
    "        return result\n",
    "    \n",
    "    fn __sub__(self, rhs: Self) -> Self:\n",
    "        let result = MySIMD[size]()\n",
    "        for i in range(size):\n",
    "            result[i] = self[i] - rhs[i]\n",
    "        return result\n",
    "\n",
    "    fn concat[rhs_size: Int](self, rhs: MySIMD[rhs_size]) -> MySIMD[size + rhs_size]:\n",
    "        let result = MySIMD[size + rhs_size]()\n",
    "        for i in range(size):\n",
    "            result[i] = self[i]\n",
    "        for j in range(rhs_size):\n",
    "            result[size + j] = rhs[j]\n",
    "        return result\n",
    "\n",
    "    fn dump(self):\n",
    "        self.value.dump()"
   ]
  },
  {
   "cell_type": "markdown",
   "metadata": {},
   "source": [
    "Parameters in Mojo are declared in square brackets using an extended version of\n",
    "the [PEP695 syntax](https://peps.python.org/pep-0695/). They are named and have\n",
    "types like normal values in a Mojo program, but they are evaluated at compile\n",
    "time instead of runtime by the target program. The runtime program may use the\n",
    "value of parameters - because the parameters are resolved at compile time\n",
    "before they are needed by the runtime program - but the compile time parameter\n",
    "expressions may not use runtime values.\n",
    "\n",
    "In the example above, there are two declared parameters: the `MySIMD` struct is\n",
    "parameterized by a `size` parameter, and `concat` method is further\n",
    "parametrized with an `rhs_size` parameter. Because `MySIMD` is a parameterized\n",
    "type, the type of a `self` argument carries the parameters - the full type\n",
    "name is `MySIMD[size]`. While it is always valid to write this out (as shown\n",
    "in the return type of `_add__`), this can be verbose: we recommend using the\n",
    "`Self` type (from [PEP673](https://peps.python.org/pep-0673/)) like the\n",
    "`__sub__` example does.\n",
    "\n",
    "The actual `SIMD` type provided by Mojo Stdlib is also parametrized on a data\n",
    "type of the elements."
   ]
  },
  {
   "cell_type": "markdown",
   "metadata": {},
   "source": [
    "### Using parameterized types and functions"
   ]
  },
  {
   "cell_type": "markdown",
   "metadata": {},
   "source": [
    "The `size` specifies the number of elements in a SIMD vector, the example\n",
    "below shows how our type can be used:"
   ]
  },
  {
   "cell_type": "code",
   "execution_count": 6,
   "metadata": {
    "vscode": {
     "languageId": "python"
    }
   },
   "outputs": [
    {
     "name": "stdout",
     "output_type": "stream",
     "text": [
      "[101, 102, 103, 104]\n",
      "[10, 20, 70, 50]\n",
      "[11, 22, 73, 54]\n"
     ]
    }
   ],
   "source": [
    "# Make a vector of 4 elements.\n",
    "let a = MySIMD[4](1, 2, 3, 4)\n",
    "\n",
    "# Make a vector of 4 elements and splat a scalar value into it.\n",
    "let b = MySIMD[4]().splat(100)\n",
    "\n",
    "# Add them together and print the result\n",
    "let c = a + b\n",
    "c.dump()\n",
    "\n",
    "# Make a vector of 2 elements.\n",
    "let d = MySIMD[2](10, 20)\n",
    "\n",
    "# Make a vector of 2 elements.\n",
    "let e = MySIMD[2](70, 50)\n",
    "\n",
    "let f = d.concat[2](e)\n",
    "f.dump()\n",
    "\n",
    "# Uncomment to see the error:\n",
    "# let x = a + e # ERROR: Operation MySIMD[4]+MySIMD[2] is not defined\n",
    "\n",
    "let y = f + a\n",
    "y.dump()\n"
   ]
  },
  {
   "cell_type": "markdown",
   "metadata": {},
   "source": [
    "Note that the `concat` method needs an additional parameter to indicate the\n",
    "size of the second SIMD vector: that is handled by parameterizing the call to\n",
    "`concat`. Our toy SIMD type shows the use of a concrete type (`Int`), but the\n",
    "major power of parameters comes from the ability to define parametric algorithms\n",
    "and types, e.g. it is quite easy to define parametric algorithms, e.g. ones that\n",
    "are length- and DType-agnostic:\n"
   ]
  },
  {
   "cell_type": "code",
   "execution_count": 7,
   "metadata": {
    "vscode": {
     "languageId": "python"
    }
   },
   "outputs": [],
   "source": [
    "from DType import DType\n",
    "from Math import sqrt\n",
    "\n",
    "fn rsqrt[width: Int, dt: DType](x: SIMD[dt, width]) -> SIMD[dt, width]:\n",
    "    return 1 / sqrt(x)"
   ]
  },
  {
   "cell_type": "markdown",
   "metadata": {},
   "source": [
    "The Mojo compiler is fairly smart about type inference with parameters. Note\n",
    "that this function is able to call the parametric `sqrt(x)` function without\n",
    "specifying the parameters, the compiler infers its parameters as if you wrote\n",
    "`sqrt[width,type](x)` explicitly. Also note that `rsqrt` chose to define\n",
    "its first parameter named `width` but the SIMD type names it `size` without\n",
    "challenge."
   ]
  },
  {
   "cell_type": "markdown",
   "metadata": {},
   "source": [
    "### Parameter expressions are just Mojo code"
   ]
  },
  {
   "cell_type": "markdown",
   "metadata": {},
   "source": [
    "All parameters and parameter expressions are typed using the same type system\n",
    "as the runtime program: `Int` and `DType` are implemented in the Mojo standard\n",
    "library as structs. Parameters are quite powerful, supporting the use of\n",
    "expressions with operators, function calls etc at compile time, just like a\n",
    "runtime program. This enables the use of many ‘dependent type’ features, for\n",
    "example, you might want to define a helper function to concatenate two SIMD\n",
    "vectors, like we did in the example above:"
   ]
  },
  {
   "cell_type": "code",
   "execution_count": 8,
   "metadata": {
    "vscode": {
     "languageId": "python"
    }
   },
   "outputs": [
    {
     "name": "stdout",
     "output_type": "stream",
     "text": [
      "[1, 2, 1, 2]\n"
     ]
    }
   ],
   "source": [
    "fn concat[len1: Int, len2: Int](lhs: MySIMD[len1], rhs: MySIMD[len2]) -> MySIMD[len1+len2]:\n",
    "    let result = MySIMD[len1 + len2]()\n",
    "    for i in range(len1):\n",
    "        result[i] = lhs[i]\n",
    "    for j in range(len2):\n",
    "        result[len1 + j] = rhs[j]\n",
    "    return result\n",
    "\n",
    "\n",
    "let a = MySIMD[2](1, 2)\n",
    "let x = concat[2,2](a, a)\n",
    "x.dump()"
   ]
  },
  {
   "cell_type": "markdown",
   "metadata": {},
   "source": [
    "Note how the result length is the sum of the input vector lengths, and you can\n",
    "express that with a simple + operation. For a more complex example, take a look\n",
    "at the `SIMD.shuffle` method in the standard library: it takes two input SIMD\n",
    "values, a vector shuffle mask as a list, and returns a SIMD that matches the\n",
    "length of the shuffle mask."
   ]
  },
  {
   "cell_type": "markdown",
   "metadata": {},
   "source": [
    "### Powerful compile-time programming"
   ]
  },
  {
   "cell_type": "markdown",
   "metadata": {},
   "source": [
    "While simple expressions are useful, sometimes you want to write imperative\n",
    "compile-time logic with control flow. For example, the `isclose` function in the\n",
    "`Math` module uses exact equality for integers but `close` comparison for floating\n",
    "point. You can even do compile time recursion, e.g. here is an example “tree\n",
    "reduction” algorithm that sums all elements of a vector recursively into a\n",
    "scalar:"
   ]
  },
  {
   "cell_type": "code",
   "execution_count": 9,
   "metadata": {
    "vscode": {
     "languageId": "python"
    }
   },
   "outputs": [
    {
     "name": "stdout",
     "output_type": "stream",
     "text": [
      "[1, 2, 3, 4]\n",
      "Elements sum: 10\n"
     ]
    }
   ],
   "source": [
    "fn slice[new_size: Int, size: Int](x: MySIMD[size], offset: Int) -> MySIMD[new_size]:\n",
    "    let result = MySIMD[new_size]()\n",
    "    for i in range(new_size):\n",
    "        result[i] = x[i + offset]\n",
    "    return result\n",
    "\n",
    "fn reduce_add[size: Int](x: MySIMD[size]) -> Int:\n",
    "        @parameter\n",
    "        if size == 1:\n",
    "            return x[0]\n",
    "        elif size == 2:\n",
    "            return x[0] + x[1]\n",
    "\n",
    "        # Extract the top/bottom halves, add them, sum the elements.\n",
    "        alias half_size = size // 2\n",
    "        let lhs = slice[half_size, size](x, 0)\n",
    "        let rhs = slice[half_size, size](x, half_size)\n",
    "        return reduce_add[half_size](lhs + rhs)\n",
    "    \n",
    "let x = MySIMD[4](1, 2, 3, 4)\n",
    "x.dump()\n",
    "print(\"Elements sum:\", reduce_add[4](x))"
   ]
  },
  {
   "cell_type": "markdown",
   "metadata": {},
   "source": [
    "This makes use of the `@parameter if` feature, which is an if statement that\n",
    "runs at compile time. It requires that its condition be a valid parameter\n",
    "expression, and ensures that only the live branch of the if is compiled into\n",
    "the program."
   ]
  },
  {
   "cell_type": "markdown",
   "metadata": {},
   "source": [
    "### Mojo types are just parameter expressions"
   ]
  },
  {
   "cell_type": "markdown",
   "metadata": {},
   "source": [
    "While we’ve shown how you can use parameter expressions within types, in both\n",
    "Python and Mojo, type annotations can themselves be arbitrary expressions.\n",
    "Types in Mojo have a special metatype type, allowing type-parametric algorithms\n",
    "and functions to be defined, for example we can extend our `HeapArray` struct to\n",
    "support arbitrary types of the elements:"
   ]
  },
  {
   "cell_type": "code",
   "execution_count": 10,
   "metadata": {
    "vscode": {
     "languageId": "python"
    }
   },
   "outputs": [
    {
     "name": "stdout",
     "output_type": "stream",
     "text": [
      "3.140000 3.140000 3.140000 3.140000\n"
     ]
    }
   ],
   "source": [
    "struct Array[Type: AnyType]:\n",
    "    var data: Pointer[Type]\n",
    "    var size: Int\n",
    "    var cap: Int\n",
    "\n",
    "    # StringRef has a data + length field\n",
    "    fn __init__(self&):\n",
    "        self.cap = 16\n",
    "        self.size = 0\n",
    "        self.data = Pointer[Type].alloc(self.cap)\n",
    "\n",
    "    fn __init__(self&, size: Int, value: Type):\n",
    "        self.cap = size * 2\n",
    "        self.size = size\n",
    "        self.data = Pointer[Type].alloc(self.cap)\n",
    "        for i in range(self.size):\n",
    "            self.data.store(i, value)\n",
    "\n",
    "    fn __copyinit__(self&, other: Self):\n",
    "        self.cap = other.cap\n",
    "        self.size = other.size\n",
    "        self.data = Pointer[Type].alloc(self.cap)\n",
    "        for i in range(self.size):\n",
    "            self.data.store(i, other.data.load(i))\n",
    "    \n",
    "    fn __getitem__(self, i: Int) -> Type:\n",
    "        return self.data.load(i)\n",
    "    \n",
    "    fn __setitem__(self, i: Int, value: Type):\n",
    "        return self.data.store(i, value)\n",
    "            \n",
    "    fn __del__(owned self):\n",
    "        self.data.free()\n",
    "\n",
    "var v = Array[F32](4, 3.14)\n",
    "print(v[0], v[1], v[2], v[3])"
   ]
  },
  {
   "cell_type": "markdown",
   "metadata": {},
   "source": [
    "Notice that the `type` parameter is being used as the formal type for the\n",
    "`value` arguments and the return type of the `__getitem__` function. Parameters\n",
    "allow the `Array` type to provide different APIs based on the different\n",
    "use-cases. There are many other cases that benefit from more advanced use\n",
    "cases. For example, the parallel processing library defines the\n",
    "`parallelForEachN` algorithm, which executes a closure N times in parallel,\n",
    "feeding in a value from the context. That value can be of any type:"
   ]
  },
  {
   "cell_type": "code",
   "execution_count": 11,
   "metadata": {
    "vscode": {
     "languageId": "python"
    }
   },
   "outputs": [],
   "source": [
    "fn parallelize[func: fn (Int) -> None](num_work_items: Int):\n",
    "    # Not actually parallel: see the 'Functional' module for real implementation.\n",
    "    for i in range(num_work_items):\n",
    "        func(i)"
   ]
  },
  {
   "cell_type": "markdown",
   "metadata": {},
   "source": [
    "Another example where this is important is with variadic generics, where an\n",
    "algorithm or data structure may need to be defined over a list of heterogenous\n",
    "types:"
   ]
  },
  {
   "cell_type": "code",
   "execution_count": 12,
   "metadata": {
    "vscode": {
     "languageId": "python"
    }
   },
   "outputs": [],
   "source": [
    "#struct Tuple[*ElementTys: AnyType]:\n",
    "#    var _storage : ElementTys"
   ]
  },
  {
   "cell_type": "markdown",
   "metadata": {},
   "source": [
    "which will allow us to fully define `Tuple` (and related types like\n",
    "`Function`) in the standard library. This is not implemented yet, but we\n",
    "expect this to work soon."
   ]
  },
  {
   "cell_type": "markdown",
   "metadata": {},
   "source": [
    "### `alias`: named parameter expressions"
   ]
  },
  {
   "cell_type": "markdown",
   "metadata": {},
   "source": [
    "It is very common to want to *name* compile time values. Whereas `var` defines a\n",
    "runtime value, and `let` defines a runtime constant, we need a way to define a\n",
    "compile time temporary value. For this, Mojo uses an `alias` declaration. For\n",
    "example, the `DType` struct implements a simple enum using aliases for the\n",
    "enumerators like this (the actual internal implementation details vary a bit):"
   ]
  },
  {
   "cell_type": "code",
   "execution_count": 13,
   "metadata": {
    "vscode": {
     "languageId": "python"
    }
   },
   "outputs": [],
   "source": [
    "struct dtype:\n",
    "    alias invalid = 0\n",
    "    alias bool = 1\n",
    "    alias si8 = 2\n",
    "    alias ui8 = 3\n",
    "    alias si16 = 4\n",
    "    alias ui16 = 5\n",
    "    alias f32 = 15"
   ]
  },
  {
   "cell_type": "markdown",
   "metadata": {},
   "source": [
    "This allows clients to use `DType.f32` as a parameter expression (which also\n",
    "works as a runtime value of course) naturally.\n",
    "\n",
    "Types are another common use for `alias`: because types are just compile time\n",
    "expressions, it is very handy to be able to do things like this:"
   ]
  },
  {
   "cell_type": "code",
   "execution_count": 14,
   "metadata": {
    "vscode": {
     "languageId": "python"
    }
   },
   "outputs": [],
   "source": [
    "alias F16 = SIMD[DType.f16, 1]\n",
    "alias UI8 = SIMD[DType.ui8, 1]\n",
    "\n",
    "var x : F16   # F16 works like a \"typedef\""
   ]
  },
  {
   "cell_type": "markdown",
   "metadata": {},
   "source": [
    "Like `var` and `let`, aliases obey scope and you can use local aliases\n",
    "within functions as you’d expect."
   ]
  },
  {
   "cell_type": "markdown",
   "metadata": {},
   "source": [
    "### Autotuning and adaptive compilation"
   ]
  },
  {
   "cell_type": "markdown",
   "metadata": {},
   "source": [
    "Mojo parameter expressions allow you to write portable parametric algorithms\n",
    "like you can do in other languages, but when writing high performance code you\n",
    "still have to pick concrete values to use for the parameters. For example when\n",
    "writing high performance numeric algorithms, you might want to use memory\n",
    "tiling to accelerate the algorithm, but the dimensions to use depend highly on\n",
    "the available hardware features, the sizes of the cache, what gets fused into\n",
    "the kernel, and many other fiddly details.\n",
    "\n",
    "Even vector length can be difficult to manage, because the vector length of a\n",
    "typical machine depends on the datatype, and some datatypes like `bfloat16`\n",
    "don't have full support on all implementations. Mojo helps by providing an\n",
    "`autotune` function in the standard library. For example, if you want to write\n",
    "a vector-length-agnostic algorithm to a buffer of data, you might write it like\n",
    "this:"
   ]
  },
  {
   "cell_type": "code",
   "execution_count": null,
   "metadata": {
    "vscode": {
     "languageId": "python"
    }
   },
   "outputs": [],
   "source": [
    "from Autotune import autotune\n",
    "from Pointer import DTypePointer\n",
    "from Functional import vectorize\n",
    "\n",
    "fn buffer_elementwise_add[\n",
    "    dt: DType\n",
    "](lhs: DTypePointer[dt], rhs: DTypePointer[dt], result: DTypePointer[dt], N: Int):\n",
    "    \"\"\"Perform elementwise addition of N elements in RHS and LHS and store\n",
    "    the result in RESULT.\n",
    "    \"\"\"\n",
    "    @parameter\n",
    "    fn add_simd[size: Int](idx: Int):\n",
    "        let lhs_simd = lhs.simd_load[size](idx)\n",
    "        let rhs_simd = rhs.simd_load[size](idx)\n",
    "        result.simd_store[size](idx, lhs_simd + rhs_simd)\n",
    "    \n",
    "    # Pick vector length for this dtype and hardware\n",
    "    alias vector_len = autotune(1, 4, 8, 16, 32)\n",
    "\n",
    "    # Use it as the vectorization length\n",
    "    vectorize[vector_len, add_simd](N)"
   ]
  },
  {
   "cell_type": "markdown",
   "metadata": {},
   "source": [
    "We can now call our function as usual:"
   ]
  },
  {
   "cell_type": "code",
   "execution_count": null,
   "metadata": {
    "vscode": {
     "languageId": "python"
    }
   },
   "outputs": [],
   "source": [
    "let N = 32\n",
    "let a = DTypePointer[DType.f32].alloc(N)\n",
    "let b = DTypePointer[DType.f32].alloc(N)\n",
    "let res = DTypePointer[DType.f32].alloc(N)\n",
    "# Initialize arrays with some values\n",
    "for i in range(N):\n",
    "    a.store(i, 2.0)\n",
    "    b.store(i, 40.0)\n",
    "    res.store(i, -1)\n",
    "    \n",
    "buffer_elementwise_add[DType.f32](a, b, res, N)\n",
    "print(a.load(10), b.load(10), res.load(10))"
   ]
  },
  {
   "cell_type": "markdown",
   "metadata": {},
   "source": [
    "When compiling instantiations of this code Mojo forks compilation of this\n",
    "algorithm and decides which value to use by measuring what works best in\n",
    "practice for the target hardware. It evaluates the different values of the\n",
    "`vector_len` expression and picks the fastest one according to a user-defined\n",
    "performance evaluator. Because it measures and evaluates each option\n",
    "individually, it might pick a different vector length for `F32` than for\n",
    "`SI8`, for example. This simple feature is pretty powerful - going beyond\n",
    "simple integer constants - because functions and types are also parameter\n",
    "expressions.\n",
    "\n",
    "Autotuning is an inherently exponential technique that benefits from internal\n",
    "implementation details of the Mojo compiler stack (particularly MLIR, integrated\n",
    "caching, and distribution of compilation). This is also a power-user feature and\n",
    "needs continued development and iteration over time.\n",
    "\n",
    "In the example above we didn't define the performance evaluator function, and\n",
    "the compiler just picked one of the available implementations. However, we dive\n",
    "deep into how to do that in other notebooks: we recommend checking out \"Matrix\n",
    "Multiplication\" and \"Fast Memset in Mojo\"."
   ]
  },
  {
   "cell_type": "markdown",
   "metadata": {},
   "source": [
    "## Argument passing control and memory ownership"
   ]
  },
  {
   "cell_type": "markdown",
   "metadata": {},
   "source": [
    "In both Python and Mojo, much of the language revolves around function calls: a\n",
    "lot of the (apparently) built-in functionality is implemented in the standard\n",
    "library with “dunder” methods. Mojo takes this a step further than Python, by\n",
    "putting the most basic things (like integers and the `object` type itself) into\n",
    "the standard library."
   ]
  },
  {
   "cell_type": "markdown",
   "metadata": {},
   "source": [
    "### Why argument conventions are important"
   ]
  },
  {
   "cell_type": "markdown",
   "metadata": {},
   "source": [
    "In Python all fundamental values are references to objects - a Python programmer\n",
    "typically thinks about the programming model as everything being reference\n",
    "semantic. However, at the CPython or machine level, we can see that the\n",
    "references themselves are actually passed _by-copy_, by copying a pointer and\n",
    "adjusting reference counts.\n",
    "\n",
    "Mojo on the other hand provides full control over value copies, aliasing of\n",
    "references, and mutations."
   ]
  },
  {
   "cell_type": "markdown",
   "metadata": {},
   "source": [
    "### By-reference arguments"
   ]
  },
  {
   "cell_type": "markdown",
   "metadata": {},
   "source": [
    "Let’s start with the simple case: passing mutable references to values vs\n",
    "passing immutable references. As we already know, arguments that are passed to\n",
    "`fn`’s are immutable by default:"
   ]
  },
  {
   "cell_type": "code",
   "execution_count": null,
   "metadata": {
    "vscode": {
     "languageId": "python"
    }
   },
   "outputs": [],
   "source": [
    "struct MyInt:\n",
    "    var value: Int\n",
    "    fn __init__(self&, v: Int):\n",
    "        self.value = v\n",
    "    fn __copyinit__(self&, other: MyInt):\n",
    "        self.value = other.value\n",
    "        \n",
    "        \n",
    "    # self and rhs are both immutable in __add__.\n",
    "    fn __add__(self, rhs: MyInt) -> MyInt:\n",
    "        return MyInt(self.value + rhs.value)\n",
    "        \n",
    "\n",
    "    # ... but this cannot work for __iadd__\n",
    "    # Uncomment to see the error:\n",
    "    #fn __iadd__(self, rhs: Int):\n",
    "    #    self = self + rhs  # ERROR: cannot assign to self!\n"
   ]
  },
  {
   "cell_type": "markdown",
   "metadata": {},
   "source": [
    "The problem here is that `__iadd__` needs to mutate the internal state of the\n",
    "integer. The solution in Mojo is to declare that the argument is passed “by\n",
    "reference” by using the `&` marker on the argument name (`self` in this\n",
    "case):"
   ]
  },
  {
   "cell_type": "code",
   "execution_count": null,
   "metadata": {
    "vscode": {
     "languageId": "python"
    }
   },
   "outputs": [],
   "source": [
    "struct MyInt:\n",
    "    var value: Int\n",
    "    fn __init__(self&, v: Int):\n",
    "        self.value = v\n",
    "\n",
    "    fn __copyinit__(self&, other: MyInt):\n",
    "        self.value = other.value\n",
    "        \n",
    "    # self and rhs are both immutable in __add__.\n",
    "    fn __add__(self, rhs: MyInt) -> MyInt:\n",
    "        return MyInt(self.value + rhs.value)\n",
    "        \n",
    "\n",
    "    # ... now this works:\n",
    "    fn __iadd__(self&, rhs: Int):\n",
    "        self = self + rhs  # OK"
   ]
  },
  {
   "cell_type": "markdown",
   "metadata": {},
   "source": [
    "Because this argument is passed by-reference, the `self` argument is mutable in\n",
    "the callee, and any changes are visible in the caller - even if the caller has\n",
    "a non-trivial computation to access it, like an array subscript:\n"
   ]
  },
  {
   "cell_type": "code",
   "execution_count": null,
   "metadata": {
    "vscode": {
     "languageId": "python"
    }
   },
   "outputs": [],
   "source": [
    "var x = 42\n",
    "x += 1\n",
    "print(x)    # prints 43 of course\n",
    "\n",
    "var a = Array[Int](16, 0)\n",
    "a[4] = 7\n",
    "a[4] += 1\n",
    "print(a[4])  # Prints 8\n",
    "\n",
    "let y = x\n",
    "# Uncomment to see the error:\n",
    "# y += 1       # ERROR: Cannot mutate 'let' value"
   ]
  },
  {
   "cell_type": "markdown",
   "metadata": {},
   "source": [
    "Mojo implements the in-place mutation of the `Array` element by\n",
    "emitting a call to `__getitem__` into a temporary buffer, followed by a store\n",
    "with `__setitem__` after the call. Mutation of the `let` value fails because it\n",
    "isn’t possible to form a mutable reference to an immutable value. Similarly,\n",
    "the compiler rejects attempts to use a subscript with a by-ref argument if it\n",
    "implements `__getitem__` but not `__setitem__`.\n",
    "\n",
    "There is nothing special about `self` in Mojo, and you can have multiple\n",
    "different by-ref arguments. For example, you can define and use a swap function\n",
    "like this:\n"
   ]
  },
  {
   "cell_type": "code",
   "execution_count": 4,
   "metadata": {
    "vscode": {
     "languageId": "python"
    }
   },
   "outputs": [],
   "source": [
    "fn swap(lhs&: Int, rhs&: Int):\n",
    "  let tmp = lhs\n",
    "  lhs = rhs\n",
    "  rhs = tmp\n",
    "\n",
    "var x = 42\n",
    "var y = 12\n",
    "print(x, y)  # Prints 42, 12\n",
    "swap(x, y)\n",
    "print(x, y)  # Prints 12, 42"
   ]
  },
  {
   "cell_type": "markdown",
   "metadata": {},
   "source": [
    "### “Borrowed” argument convention"
   ]
  },
  {
   "cell_type": "markdown",
   "metadata": {},
   "source": [
    "Now that we know how by-reference argument passing works, you may wonder how\n",
    "by-value argument passing works and how that interacts with the `__copyinit__`\n",
    "method which implements copy constructors. In Mojo, the default convention for\n",
    "passing arguments to functions is to pass with the “borrowed” argument\n",
    "convention. You can spell this out explicitly if you’d like:\n"
   ]
  },
  {
   "cell_type": "code",
   "execution_count": null,
   "metadata": {
    "vscode": {
     "languageId": "python"
    }
   },
   "outputs": [],
   "source": [
    "# A type that is so expensive to copy around we don't even have a\n",
    "# __copyinit__ method.\n",
    "struct SomethingBig:\n",
    "    var id_number: Int\n",
    "    var huge: Array[Int]\n",
    "    fn __init__(self&, id: Int):\n",
    "        self.huge = Array[Int](1000, 0)\n",
    "        self.id_number = id\n",
    "\n",
    "    # self is passed by-reference for mutation as described above.\n",
    "    fn set_id(self&, number: Int):\n",
    "        self.id_number = number\n",
    "\n",
    "    # Arguments like self are passed as borrowed by default.\n",
    "    fn print_id(self):  # Same as: fn print_id(borrowed self):\n",
    "        print(self.id_number)\n",
    "\n",
    "fn use_something_big(borrowed a: SomethingBig, b: SomethingBig):\n",
    "    \"\"\"'a' and 'b' are passed the same, because 'borrowed' is the default.\"\"\"\n",
    "    a.print_id()\n",
    "    b.print_id()\n",
    "\n",
    "let a = SomethingBig(10)\n",
    "let b = SomethingBig(20)\n",
    "use_something_big(a, b)"
   ]
  },
  {
   "cell_type": "markdown",
   "metadata": {},
   "source": [
    "This default applies to all arguments uniformly, including the `self` argument\n",
    "of methods. The borrowed convention passes an _immutable reference_ to the\n",
    "value from the caller’s context, instead of copying the value. This is much\n",
    "more efficient when passing large values, or when passing expensive values like\n",
    "a reference counted pointer (which is the default for Python/Mojo classes),\n",
    "because the copy constructor and destructor don’t have to be invoked when\n",
    "passing the argument. Here is a more elaborate example building on the code\n",
    "above:\n"
   ]
  },
  {
   "cell_type": "code",
   "execution_count": null,
   "metadata": {
    "vscode": {
     "languageId": "python"
    }
   },
   "outputs": [],
   "source": [
    "fn try_something_big():\n",
    "    # Big thing sits on the stack: after we construct it it cannot be\n",
    "    # moved or copied.\n",
    "    let big = SomethingBig(30)\n",
    "    # We still want to do useful things with it though!\n",
    "    big.print_id()\n",
    "    # Do other things with it.\n",
    "    use_something_big(big, big)\n",
    "\n",
    "try_something_big()"
   ]
  },
  {
   "cell_type": "markdown",
   "metadata": {},
   "source": [
    "Because the default argument convention is borrowed, we get very simple and\n",
    "logical code which does the right thing by default: for example, we don’t want\n",
    "to copy or move all of `SomethingBig` just to invoke the `print_id` method,\n",
    "or when calling `use_something_big`.\n",
    "\n",
    "The borrowed convention is similar and has precedent to other languages. For\n",
    "example, the borrowed argument convention is similar in some ways to passing an\n",
    "argument by `const&` in C++. This avoids a copy of the value, and disables\n",
    "mutability in the callee. The borrowed convention differs from `const&` in\n",
    "C++ in two important ways though:\n",
    "\n",
    "1. The Mojo compiler implements a borrow checker (similar to Rust) that\n",
    "prevents code from dynamically forming mutable references to a value when there\n",
    "are immutable references outstanding, and prevents having multiple mutable\n",
    "references to the same value. You are allowed to have multiple borrows (as the\n",
    "call to `use_something_big` does above) but cannot pass something by mutable\n",
    "reference and borrow at the same time. (TODO: Not currently enabled).\n",
    "\n",
    "2. Small values like `Int`, `Float`, and `SIMD` are passed directly in\n",
    "machine registers instead of through an extra indirection (this is because they\n",
    "are declared with the `@register_passable` decorator, see below). This is a\n",
    "[significant performance\n",
    "enhancement](https://www.forrestthewoods.com/blog/should-small-rust-structs-be-passed-by-copy-or-by-borrow/)\n",
    "when compared to languages like C++ and Rust, and moves this optimization from\n",
    "every call site to being declarative on a type.\n",
    "\n",
    "Rust is another important language and the Mojo and Rust borrow checkers\n",
    "enforce the same exclusivity invariants. The major difference between Rust and\n",
    "Mojo is that no sigil is required on the caller side to pass by borrow, Mojo is\n",
    "more efficient when passing small values, and Rust defaults to moving values by\n",
    "default instead of passing them around by borrow. These policy and syntax\n",
    "decisions allows Mojo to provide an arguably easier to use programming model.\n"
   ]
  },
  {
   "cell_type": "markdown",
   "metadata": {},
   "source": [
    "### “Owned” argument convention"
   ]
  },
  {
   "cell_type": "markdown",
   "metadata": {},
   "source": [
    "The final argument convention that Mojo supports is the `owned` argument\n",
    "convention. This convention is used for functions that want to take exclusive\n",
    "ownership over a value, and it is often used with the postfix `^` operator.\n",
    "\n",
    "For example, consider working with a move-only type like a unique pointer:"
   ]
  },
  {
   "cell_type": "code",
   "execution_count": null,
   "metadata": {
    "vscode": {
     "languageId": "python"
    }
   },
   "outputs": [],
   "source": [
    "# This is not really a unique pointer, we just model its behavior here:\n",
    "struct UniquePointer:\n",
    "    var ptr: Int\n",
    "    \n",
    "    fn __init__(self&, ptr: Int):\n",
    "        self.ptr = ptr\n",
    "    \n",
    "    fn __moveinit__(self&, owned existing: Self):\n",
    "        self.ptr = existing.ptr\n",
    "        \n",
    "    fn __del__(owned self):\n",
    "        self.ptr = 0"
   ]
  },
  {
   "cell_type": "markdown",
   "metadata": {},
   "source": [
    "If we try copying it, we would correctly get an error:"
   ]
  },
  {
   "cell_type": "code",
   "execution_count": null,
   "metadata": {
    "vscode": {
     "languageId": "python"
    }
   },
   "outputs": [],
   "source": [
    "let p = UniquePointer(100)\n",
    "# Uncomment to see the error:\n",
    "# let q = p # ERROR: value of type 'UniquePointer' cannot be copied into its destination"
   ]
  },
  {
   "cell_type": "markdown",
   "metadata": {},
   "source": [
    "While the borrow convention makes it easy to work with the unique pointer\n",
    "without ceremony, at some point you may want to transfer ownership to some other\n",
    "function. This is what the `^` operator does.\n",
    "\n",
    "For movable types, the `^` operator ends the lifetime of a value binding and\n",
    "transfers the value to something else (in this case, the `take_ptr` function).\n",
    "To support this, you can define functions as taking owned arguments, e.g. you\n",
    "define `take_ptr` like so:"
   ]
  },
  {
   "cell_type": "code",
   "execution_count": null,
   "metadata": {
    "vscode": {
     "languageId": "python"
    }
   },
   "outputs": [],
   "source": [
    "fn use_ptr(borrowed p: UniquePointer):\n",
    "    print(\"use_ptr\")\n",
    "    print(p.ptr)\n",
    "\n",
    "fn take_ptr(owned p: UniquePointer):\n",
    "    print(\"take_ptr\")\n",
    "    print(p.ptr)\n",
    "    \n",
    "fn work_with_unique_ptrs():\n",
    "    let p = UniquePointer(100)\n",
    "    use_ptr(p)    # Perfectly fine to pass to borrowing function.\n",
    "    use_ptr(p)\n",
    "    take_ptr(p^)  # Pass ownership of the `p` value to another function.\n",
    "\n",
    "    # Uncomment to see an error:\n",
    "    # use_ptr(p) # ERROR: p is no longer valid here!\n",
    "\n",
    "work_with_unique_ptrs()"
   ]
  },
  {
   "cell_type": "markdown",
   "metadata": {},
   "source": [
    "Because it is declared `owned`, the `take_ptr` function knows it has unique\n",
    "access to the value.  This is very important for things like unique pointers,\n",
    "can be useful to avoid copies, and is a generalization for other cases as well.\n",
    "\n",
    "For example, you will notably see the `owned` convention on destructors and on\n",
    "consuming move initializers, e.g., our `HeapArray` used that in its\n",
    "`__del__` method - this is because you need to own a value to destroy it or to\n",
    "steal its parts!"
   ]
  },
  {
   "cell_type": "markdown",
   "metadata": {},
   "source": [
    "This is because you need to own a value to destroy it or to steal its parts!"
   ]
  },
  {
   "cell_type": "markdown",
   "metadata": {},
   "source": [
    "### `@register_passable` struct decorator"
   ]
  },
  {
   "cell_type": "markdown",
   "metadata": {},
   "source": [
    "As described above, the default fundamental model for working with values is\n",
    "that they live in memory so they have identity, which means they are passed\n",
    "indirectly to and from functions (equivalently, they are passed ‘by reference’\n",
    "at the machine level). This is great for types that cannot be moved, and is a\n",
    "good safe default for large objects or things with expensive copy operations.\n",
    "However, it is really inefficient for tiny things like a single integer or\n",
    "floating point number!\n",
    "\n",
    "To solve this, Mojo allows structs to opt-in to being passed in a register\n",
    "instead of passing through memory with the `@register_passable` decorator.\n",
    "You’ll see this decorator on types like `Int` in the standard library:\n"
   ]
  },
  {
   "cell_type": "code",
   "execution_count": null,
   "metadata": {
    "vscode": {
     "languageId": "python"
    }
   },
   "outputs": [],
   "source": [
    "@register_passable(\"trivial\")\n",
    "struct MyInt:\n",
    "   var value: Int\n",
    "\n",
    "   fn __init__(value: Int) -> Self:\n",
    "       return Self {value: value}\n",
    "\n",
    "let x = MyInt(10)"
   ]
  },
  {
   "cell_type": "markdown",
   "metadata": {},
   "source": [
    "The basic `@register_passable` decorator does not change the fundamental\n",
    "behavior of a type: it still needs to have a `__copyinit__` method to be\n",
    "copyable, may still have `__init__` and `__del__` methods, etc. The major\n",
    "effect of this decorator is on internal implementation details:\n",
    "`@register_passable` types are typically passed in machine registers (subject\n",
    "to the details of the underlying architecture of course).\n",
    "\n",
    "There are only a few observable effects of this decorator to the typical Mojo\n",
    "programmer:\n",
    "\n",
    "1. `@register_passable` types are not being able to hold instances of types\n",
    "that are not themselves `@register_passable`.\n",
    "\n",
    "2. instances of `@register_passable` types do not have predictable identity,\n",
    "and so the ‘self’ pointer is not stable/predictable (e.g. in hash tables).\n",
    "\n",
    "3. `@register_passable` arguments and result are exposed to C and C++ directly,\n",
    "instead of being passed by-pointer.\n",
    "\n",
    "4. The `__init__` and `__copyinit__` methods of this type are implicitly\n",
    "static (like `__new__` in Python) and return its result by-value instead of\n",
    "taking `self&`.\n",
    "\n",
    "We expect that this decorator will be used pervasively on core standard library\n",
    "types, but is safe to ignore for general application level code.\n",
    "\n",
    "The `MyInt` example above actually uses the `\"trivial\"` variant of this\n",
    "decorator.  It changes the passing convention as described above but also\n",
    "disallows copy and move constructors and destructors (synthesizing them all\n",
    "trivially)."
   ]
  },
  {
   "cell_type": "markdown",
   "metadata": {},
   "source": [
    "## Advanced Mojo features"
   ]
  },
  {
   "cell_type": "markdown",
   "metadata": {},
   "source": [
    "This section describes power-user features that are important for building the\n",
    "bottom-est level of the standard library. This level of the stack is inhabited\n",
    "by narrow features that require experience with compiler internals to\n",
    "understand and utilize effectively."
   ]
  },
  {
   "cell_type": "markdown",
   "metadata": {},
   "source": [
    "### `@always_inline` decorator"
   ]
  },
  {
   "cell_type": "markdown",
   "metadata": {},
   "source": [
    "For implementing high-performant kernels it's often important to control\n",
    "optimizations that compiler applies to the code. It's important to be able both\n",
    "enabling optimizations we need and disabling optimizations we do not want.\n",
    "Traditional compilers usually rely on various heuristics to decide whether to\n",
    "apply a given optimization or not (e.g. whether to inline a call or not, or\n",
    "whether to unroll a loop or not). While this usually gives a decent baseline,\n",
    "it's often unpredictable. That's why Mojo introduces special decorators that\n",
    "provide full control over compiler optimizations.\n",
    "\n",
    "The first decorator we'll demonstrate is `@always_inline`. It is used on a\n",
    "function and instructs compiler to always inline this function when it's called."
   ]
  },
  {
   "cell_type": "code",
   "execution_count": null,
   "metadata": {
    "vscode": {
     "languageId": "python"
    }
   },
   "outputs": [],
   "source": [
    "@always_inline\n",
    "fn foo(x: Int, y: Int) -> Int:\n",
    "    return x + y\n",
    "\n",
    "fn bar(z: Int):\n",
    "    let r = foo(z, z) # This call will be inlined"
   ]
  },
  {
   "cell_type": "markdown",
   "metadata": {},
   "source": [
    "In future we will also introduce an opposite decorator, which would prevent\n",
    "compiler from inlining a function, and similar decorators to control other\n",
    "optimizations, such as loop unrolling."
   ]
  },
  {
   "cell_type": "markdown",
   "metadata": {},
   "source": [
    "### Direct access to MLIR"
   ]
  },
  {
   "cell_type": "markdown",
   "metadata": {},
   "source": [
    "Mojo is not just built ontop of MLIR, it also provides a way to access it. This\n",
    "allows integration with any hardware targets and also lets us make sure that the\n",
    "code Mojo compiler produces is **exactly** what we want. This is extremely\n",
    "important when we want to utilize hardware-specific features directly and not\n",
    "rely on a compiler for that.\n",
    "\n",
    "This feature is used, for instance, to back our `SIMD` type implementation. If\n",
    "you'd like to learn more about it, you can take a look at `BoolMLIR` notebook\n",
    "that gives a taste of it."
   ]
  }
 ],
 "metadata": {
  "kernelspec": {
   "display_name": "Mojo",
   "language": "mojo",
   "name": "mojo-jupyter-kernel"
  },
  "language_info": {
   "codemirror_mode": {
    "name": "mojo"
   },
   "file_extension": ".mojo",
   "mimetype": "text/x-mojo",
   "name": "mojo"
  }
 },
 "nbformat": 4,
 "nbformat_minor": 4
}

