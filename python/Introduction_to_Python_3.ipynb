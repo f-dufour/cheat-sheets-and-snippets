{
  "cells": [
    {
      "cell_type": "markdown",
      "source": [
        "# Introduction to Python 3\n",
        "\n",
        "- Florent Dufour\n",
        "- 2013 - 2022"
      ],
      "metadata": {
        "id": "277Zdgu08aCd"
      }
    },
    {
      "cell_type": "markdown",
      "source": [
        "## Basics"
      ],
      "metadata": {
        "id": "-BVIvSmqBhuU"
      }
    },
    {
      "cell_type": "code",
      "source": [
        "# This is a comment\n",
        "\n",
        "'''\n",
        "This is a multi lines comment\n",
        "'''"
      ],
      "metadata": {
        "id": "BPZPCiYh-2qO"
      },
      "execution_count": null,
      "outputs": []
    },
    {
      "cell_type": "code",
      "execution_count": null,
      "metadata": {
        "id": "lIYdn1woOS1n"
      },
      "outputs": [],
      "source": [
        "# Imports\n",
        "import sys  # All available with prefix\n",
        "import time # Same\n",
        "from math import * # All available without prefix\n",
        "import numpy as np # All available with prefix under specified name"
      ]
    },
    {
      "cell_type": "code",
      "source": [
        "# Hello world\n",
        "print(\"Hello World\")"
      ],
      "metadata": {
        "id": "pghBj2my8ZMk"
      },
      "execution_count": null,
      "outputs": []
    },
    {
      "cell_type": "code",
      "source": [
        "# Variables\n",
        "name = input(\"What is your name? \")\n",
        "print(\"Hi\", name)\n",
        "\n",
        "# Mess with lines\n",
        "v1 = (\n",
        "    1+2\n",
        "    +3\n",
        ")\n",
        "\n",
        "v2 = 1 + 2 \\\n",
        "  +3\n",
        "\n",
        "v3 = 2; v4 = 6 # More power to ;\n",
        "\n",
        "a1 = a2 = \"test\""
      ],
      "metadata": {
        "id": "hgOnXH4d95-b"
      },
      "execution_count": null,
      "outputs": []
    },
    {
      "cell_type": "code",
      "source": [
        "# Data Types\n",
        "## Integers\n",
        "## Floats\n",
        "## Complex numbers\n",
        "## Strings\n",
        "## Booleans\n",
        "\n",
        "print(type(3.))\n",
        "print(sys.maxsize) # Int\n",
        "print(sys.float_info.max) # float\n",
        "print(type(1 + 2j))\n",
        "print(type(False)) # Upprcase\n",
        "print(type(True))"
      ],
      "metadata": {
        "id": "ygPF8Frv-iDI"
      },
      "execution_count": null,
      "outputs": []
    },
    {
      "cell_type": "code",
      "source": [
        "# String\n",
        "# Escape sequences with \\: \\' \\\" \\t \\n\n",
        "str2 = '''triple quotes string'''"
      ],
      "metadata": {
        "id": "BD5JKbV5_XxP"
      },
      "execution_count": null,
      "outputs": []
    },
    {
      "cell_type": "code",
      "source": [
        "# Casting\n",
        "print(type(int(6.1)))\n",
        "print(type(str(6.1)))\n",
        "\n",
        "# chr & ord\n",
        "print(type(chr(6)))\n",
        "print(type(ord('f')))"
      ],
      "metadata": {
        "id": "JS5HJdy7ADxD"
      },
      "execution_count": null,
      "outputs": []
    },
    {
      "cell_type": "markdown",
      "source": [
        "# Strings\n",
        "\n",
        "- Are immutable: Can not change character at a given index\n",
        "- Unless use the .replace() method"
      ],
      "metadata": {
        "id": "SeGMhYmROelE"
      }
    },
    {
      "cell_type": "code",
      "source": [
        "# All the prints...\n",
        "print(1, 1, 1970, sep=\"-\")\n",
        "print(\"Not the end\", end=\"\")\n",
        "print(\"\\n%04d %s %.2f %c\" % (42, \"prout\", 1.234, 'A'))\n",
        "print(\"Hello\" + \" world\")\n",
        "print(\"Hello\", \"world\")\n",
        "longWord = \"Thisisalongword\"\n",
        "longSentence = \"    This is a long sentence     \"\n",
        "# ... And string manipulation\n",
        "print(longWord[-1])\n",
        "print(longWord[0:3])\n",
        "print(longWord[:5])\n",
        "print(longWord[0:-1:3])\n",
        "print(longWord.replace(\"word\", \"sentence\"))\n",
        "print(\"word\" in longWord)\n",
        "print(\"word\" not in longWord)\n",
        "print(longWord.find(\"word\")) # Index of the first occurence\n",
        "print(longSentence.strip())  # Strip all whitespace\n",
        "print(longSentence.lstrip()) # Or just on the left\n",
        "print(longSentence.rstrip()) # Or just on the right\n",
        "print(\"-\".join([\"str1\", \"str2\", \"str3\"])) # Convert list to string\n",
        "print(longSentence.strip().split(\" \")).   # Convert string to list\n",
        "print(\"JoyeuX AnniVerSaire\".lower())\n",
        "print(\"JoyeuX AnniVerSaire\".upper())\n",
        "print(\"The PIN is 897\".isalnum())\n",
        "print(\"The PIN is 897\".isalpha())\n",
        "print(\"The PIN is 897\".isdigit())\n",
        "# ... And prints\n",
        "print(r\"No \\t tab or \\n new line\") # Raw strings: No escaped character\n",
        "int1 = int2 = 5\n",
        "print(f\"{int1} + {int2} = {int1 + int2}\")"
      ],
      "metadata": {
        "id": "nweNeaRUAkhW"
      },
      "execution_count": null,
      "outputs": []
    },
    {
      "cell_type": "markdown",
      "source": [
        "## Math functions"
      ],
      "metadata": {
        "id": "Q-Q93tJ1BkKy"
      }
    },
    {
      "cell_type": "code",
      "source": [
        "# Basic arithmetics\n",
        "print(\"1 + 1 = \", 1 + 1)\n",
        "print(\"1 - 1 = \", 1 - 1)\n",
        "print(\"1 * 1 = \", 1 * 1)\n",
        "print(\"1 / 1 = \", 1 / 1)\n",
        "print(\"1 % 1 = \", 1 % 1)\n",
        "print(\"1 ** 1 = \", 1 ** 1)\n",
        "print(\"1 // 1 = \", 1 // 1)\n",
        "\n",
        "a = 1\n",
        "a += 1\n",
        "a -= 1\n",
        "a *= 1\n",
        "\n",
        "# Math library\n",
        "import math\n",
        "print(abs(-10))\n",
        "print(math.cos(math.pi))\n",
        "#math.radians()...\n",
        "print(math.inf - math.inf)"
      ],
      "metadata": {
        "id": "qWFQcZ80A9sq"
      },
      "execution_count": null,
      "outputs": []
    },
    {
      "cell_type": "code",
      "source": [
        "# Random stuff\n",
        "import random\n",
        "\n",
        "print(random.randint(0, 100))"
      ],
      "metadata": {
        "id": "GyZmCX_yCKRK"
      },
      "execution_count": null,
      "outputs": []
    },
    {
      "cell_type": "markdown",
      "source": [
        "## Conditionals"
      ],
      "metadata": {
        "id": "bYoBRENzDwyr"
      }
    },
    {
      "cell_type": "code",
      "source": [
        "# Comparison operators\n",
        "# > < >= <= == !=\n",
        "age = 20\n",
        "\n",
        "if age > 18:\n",
        "  print(\"Ok!\")\n",
        "elif age >= 16:\n",
        "  print(\"almost Ok.\")\n",
        "else:\n",
        "  print(\"Not Ok.\")"
      ],
      "metadata": {
        "id": "TZnrgMb8CpKi"
      },
      "execution_count": null,
      "outputs": []
    },
    {
      "cell_type": "code",
      "source": [
        "# Logical operators\n",
        "## and or not\n",
        "\n",
        "if age < 5:\n",
        "  print(\"Stay home.\")\n",
        "elif (age >= 5) and (age <= 6):\n",
        "  print(\"Goto kindergarten\")\n",
        "elif (age > 6) and (age <= 17):\n",
        "  print(\"Grade\", (age - 5))\n",
        "else:\n",
        "  print(\"college\")\n",
        "\n",
        "## Ternary operator\n",
        "\n",
        "can_vote = True if age >= 18 else False\n",
        "print(can_vote)"
      ],
      "metadata": {
        "id": "LCTXkA1cEMO0"
      },
      "execution_count": null,
      "outputs": []
    },
    {
      "cell_type": "markdown",
      "source": [
        "## Lists\n",
        "\n",
        "- Contain mutable piece of data\n",
        "- Can contain different data types\n",
        "- Can contain functions"
      ],
      "metadata": {
        "id": "PKhvPxSRJLUM"
      }
    },
    {
      "cell_type": "code",
      "source": [
        "l1 = [1, 2, 3, 4.5, True, \"Test\"]\n",
        "len(l1)\n",
        "print(l1[3])\n",
        "l1[2:3] = [\"inserted1\", \"inserted2\"]\n",
        "print(l1)\n",
        "l1.remove(\"Test\")       # Remove given item\n",
        "l1.pop(2)               # Remove given item by index\n",
        "l1 = [\"To\", \"Add\"] + l1 # Add to the beginning\n",
        "l1 = l1 + [\"To\", \"Add\"] # Add to the end\n",
        "twod = [[1, 2], [3, 3]] # Two dimensions\n",
        "print(twod[1][1])\n",
        "print([1, 2] in twod)\n",
        "print(min([1, 2, 3]))\n",
        "print(max([1, 2, 3]))\n"
      ],
      "metadata": {
        "id": "Yu90Lmm_FETC"
      },
      "execution_count": null,
      "outputs": []
    },
    {
      "cell_type": "markdown",
      "source": [
        "# Loops"
      ],
      "metadata": {
        "id": "H6kEROu5IxRv"
      }
    },
    {
      "cell_type": "code",
      "source": [
        "# While\n",
        "\n",
        "w1 = 1\n",
        "while w1 < 5:\n",
        "  print(w1)\n",
        "  w1 += 1\n",
        "\n",
        "w2 = 0\n",
        "while w2 <= 20:\n",
        "  if w2 % 2 == 0:\n",
        "    print(w2, \"is even\")\n",
        "  w2 += 1\n",
        "\n",
        "w3 = [1, 2, 3, True, \"bonjour\"]\n",
        "while len(w3):\n",
        "  print(w3.pop(0)) # That's destructive\n",
        "print(w3)"
      ],
      "metadata": {
        "id": "3gFZBg9PJK8v"
      },
      "execution_count": null,
      "outputs": []
    },
    {
      "cell_type": "code",
      "source": [
        "# For\n",
        "\n",
        "for i in range(0, 10): # 0 to 10 not included\n",
        "  print(i, \" \", end=\"\")\n",
        "\n",
        "for i in [1, 2, 4, 9, True, \"Bonjour\"]:\n",
        "  print(i, \" \", end=\"\")"
      ],
      "metadata": {
        "id": "tsLC4WQNI2F3"
      },
      "execution_count": null,
      "outputs": []
    },
    {
      "cell_type": "code",
      "source": [
        "# Iterators\n",
        "\n",
        "lst = [1, 2, 3]\n",
        "iterable = iter(lst) # Cast\n",
        "print(next(iterable))\n",
        "print(next(iterable))\n",
        "print(next(iterable))"
      ],
      "metadata": {
        "id": "HjRH9OwWNWVY"
      },
      "execution_count": null,
      "outputs": []
    },
    {
      "cell_type": "code",
      "source": [
        "# Range\n",
        "\n",
        "print(list(range(0, 10, 2)))"
      ],
      "metadata": {
        "id": "W6lUuwQRODZg"
      },
      "execution_count": null,
      "outputs": []
    },
    {
      "cell_type": "markdown",
      "source": [
        "# Tuples\n",
        "\n",
        "- Are like lists but immutable\n",
        "- Everthing you can do with a list, you can do with a tuple"
      ],
      "metadata": {
        "id": "6mOJgDzgOr5s"
      }
    },
    {
      "cell_type": "code",
      "source": [
        "t1 = (1, 3, \"False\")\n",
        "print(len(t1))\n",
        "print(t1[0])\n",
        "print(t1[0:2])"
      ],
      "metadata": {
        "id": "xyKG3XRTOdlJ"
      },
      "execution_count": null,
      "outputs": []
    },
    {
      "cell_type": "markdown",
      "source": [
        "# Dictionaries\n",
        "\n",
        "- List of key/value pairs\n",
        "- Can be of any data type"
      ],
      "metadata": {
        "id": "Nt62Y7D0PETs"
      }
    },
    {
      "cell_type": "code",
      "source": [
        "heroes = {\n",
        "    \"Superman\": \"Clark Kent\",\n",
        "    \"Batman\": \"Bruce Wayne\"\n",
        "}\n",
        "print(heroes)\n",
        "print(len(heroes))              # Len of dict\n",
        "print(heroes[\"Superman\"])       # Get element by key\n",
        "heroes[\"Flash\"] = \"Barry Allan\" # Add an element\n",
        "heroes[\"Flash\"] = \"Barry Allen\" # Modify an element\n",
        "print(heroes)\n",
        "print(list(heroes.items()))  # List of tuples: Key and value\n",
        "print(list(heroes.keys()))   # List keys\n",
        "print(list(heroes.values())) # List values\n",
        "\n",
        "\n",
        "villains = dict([\n",
        "  (\"Lex Luthor\", \"Lex Luthor\"),\n",
        "  (\"Loki\", \"Loki\")\n",
        "])\n",
        "print(villains)\n",
        "del villains[\"Loki\"]       # Deletes\n",
        "villains.pop(\"Lex Luthor\") # Delete and return deleted  it\n",
        "print(\"Loki\" in villains)\n",
        "\n",
        "\n",
        "products = {\"product\": \"bread\", \"price\": 1.129}\n",
        "print(\"%(product)s costs €%(price).2f\" % products)"
      ],
      "metadata": {
        "id": "YptOjRNxPD8R"
      },
      "execution_count": null,
      "outputs": []
    },
    {
      "cell_type": "markdown",
      "source": [
        "# Sets\n",
        "\n",
        "- Unordered list\n",
        "- Uique values\n",
        "- Immutable"
      ],
      "metadata": {
        "id": "EXmIDYf4Y9hN"
      }
    },
    {
      "cell_type": "code",
      "source": [
        "s1 = set([\"str1\", \"str2\", \"str3\", \"prout\", \"Bonjour\", True, 3.45])\n",
        "s2 = {\"Bonjour\", \"Au revoir\", False}\n",
        "s3 = s1 | s2 # Join sets\n",
        "print(s3)\n",
        "s3.add(3.14)       # Add an element\n",
        "s3.discard(\"str2\") # Remove an element\n",
        "s3.pop()           # Remove a random element as it is unordered\n",
        "s3 |= s2           # Add a set to a set (values already inside are ignored)\n",
        "print(s1.intersection(s3))         # Intersection between two set\n",
        "print(s1.symmetric_difference(s2)) # All unique value\n",
        "print(s1.difference(s2))           # All unique value\n",
        "s3.clear()                         # Clear the set\n",
        "print(s3)\n",
        "s4 = frozenset([\"Hello\", \"world\"]) # Set can not be changed in any way (above doesn't work)\n"
      ],
      "metadata": {
        "id": "7JF8T0JwO4v6"
      },
      "execution_count": null,
      "outputs": []
    },
    {
      "cell_type": "markdown",
      "source": [
        "# Functions\n",
        "\n",
        "- Provide code reuse and organisation"
      ],
      "metadata": {
        "id": "Mr9oxyJIfMBo"
      }
    },
    {
      "cell_type": "code",
      "source": [
        "# We know how many arguments\n",
        "def get_sum(num1: int, num2: int): # With function annotation: Type and default value\n",
        "  return num1 + num2\n",
        "\n",
        "def get_sum(num1: int=1, num2: int=1): # With function annotation: Type and default value\n",
        "  return num1 + num2\n",
        "\n",
        "print(get_sum(2, 8))"
      ],
      "metadata": {
        "id": "-DRUu9BMfLrn"
      },
      "execution_count": null,
      "outputs": []
    },
    {
      "cell_type": "code",
      "source": [
        "# We don't know how many arguments\n",
        "def get_sum(*args):\n",
        "  sum = 0\n",
        "  for arg in args:\n",
        "    sum += arg\n",
        "  return sum\n",
        "\n",
        "print(get_sum(1, 3, 6, 8))"
      ],
      "metadata": {
        "id": "UU_RFKkjdauq"
      },
      "execution_count": null,
      "outputs": []
    },
    {
      "cell_type": "code",
      "source": [
        "# Return multiple values\n",
        "def next_2(num):\n",
        "  return num + 1, num + 2\n",
        "\n",
        "next, nextnext = next_2(1)"
      ],
      "metadata": {
        "id": "6wNRQTNYliYl"
      },
      "execution_count": null,
      "outputs": []
    },
    {
      "cell_type": "code",
      "source": [
        "# Function that makes a function\n",
        "def mult_by(num):\n",
        "  return lambda x: x * num\n",
        "print(\"3 x 5:\", mult_by(3)(5)) # num * x\n",
        "\n",
        "# Pass a function to a function\n",
        "def mult_list(list, func):\n",
        "  for x in list:\n",
        "    print(func(x))\n",
        "\n",
        "mult_by_4 = mult_by(4)\n",
        "mult_list(list(range(0, 5)), mult_by_4)"
      ],
      "metadata": {
        "id": "qpcnASKLl8ge"
      },
      "execution_count": null,
      "outputs": []
    },
    {
      "cell_type": "code",
      "source": [
        "# Can even put functions in lists\n",
        "power_list = [lambda x: x ** 2, lambda x: x** 3]"
      ],
      "metadata": {
        "id": "Q0bAaaINmad9"
      },
      "execution_count": null,
      "outputs": []
    },
    {
      "cell_type": "code",
      "source": [
        "# Maps: Apply to list elements\n",
        "\n",
        "one_to_4 = range(1, 5)\n",
        "times_2 = lambda x: x * 2\n",
        "print(list(map(times_2, one_to_4)))\n",
        "\n",
        "# Filter: Only select given elements\n",
        "\n",
        "print(list(filter(lambda x: x % 2 == 0, range(0, 10))))\n",
        "\n",
        "# Reduce: Take lists and return single result\n",
        "\n",
        "from functools import reduce\n",
        "print(reduce((lambda x, y: x + y), range(0, 10)))"
      ],
      "metadata": {
        "id": "eFHpr9b4n4Hb"
      },
      "execution_count": null,
      "outputs": []
    },
    {
      "cell_type": "markdown",
      "source": [
        "# Exceptions\n",
        "\n",
        "- Use try blocks\n",
        "\n"
      ],
      "metadata": {
        "id": "MIBh5lZPqQPn"
      }
    },
    {
      "cell_type": "code",
      "source": [
        "while True:\n",
        "  try:\n",
        "    number = int(input(\"Please enter a number: \"))\n",
        "    print(\"You entered the number\", number)\n",
        "    break\n",
        "  except ValueError:\n",
        "    print(\"You didn't enter a number!\")\n",
        "  "
      ],
      "metadata": {
        "id": "WgBJ9F5LoFXQ"
      },
      "execution_count": null,
      "outputs": []
    },
    {
      "cell_type": "markdown",
      "source": [
        "# Persistent data"
      ],
      "metadata": {
        "id": "IgSznyjZuO8X"
      }
    },
    {
      "cell_type": "code",
      "source": [
        "with open(\"my_data.txt\", mode=\"w\", encoding=\"utf-8\") as my_data: # \"with\" to automatically close file\n",
        "  my_data.write(\"Some text\")"
      ],
      "metadata": {
        "id": "sTRnAVsRq66G"
      },
      "execution_count": null,
      "outputs": []
    },
    {
      "cell_type": "code",
      "source": [
        "with open(\"my_data.txt\", mode=\"r\", encoding=\"utf-8\") as my_data:\n",
        "  print(my_data.read())"
      ],
      "metadata": {
        "id": "aF62wEhzuqqw"
      },
      "execution_count": null,
      "outputs": []
    },
    {
      "cell_type": "markdown",
      "source": [
        "# Classes and objects"
      ],
      "metadata": {
        "id": "3IzE1NND5mao"
      }
    },
    {
      "cell_type": "code",
      "source": [
        "# define a function\n",
        "class Square:\n",
        "  def __init__(self, height=0, width=0): # Function called whrn the object is created\n",
        "    self.height = height\n",
        "    self.width  = width\n",
        "  \n",
        "  # Getter\n",
        "  @property\n",
        "  def get_height(self):\n",
        "    return self.height\n",
        "\n",
        "  # Setter\n",
        "  #@height.setter\n",
        "  def set_height(self, newHeight):\n",
        "    if newHeight.isdigit():\n",
        "      self.height = newHeight\n",
        "    else:\n",
        "      print(\"Please enter a digit\")\n",
        "\n",
        "  def get_area(self):\n",
        "    return int(self.width) * int(self.height)"
      ],
      "metadata": {
        "id": "Z3DlYxdS5kP-"
      },
      "execution_count": null,
      "outputs": []
    },
    {
      "cell_type": "code",
      "source": [
        "square = Square(10, 10)\n",
        "square.get_area()"
      ],
      "metadata": {
        "id": "i6i4dEBqv8tY"
      },
      "execution_count": null,
      "outputs": []
    },
    {
      "cell_type": "code",
      "source": [
        "# Inheritance\n",
        "class Animal:\n",
        "  def __init__(self, name=\"unknown\", weight=0):\n",
        "    self.__name = name\n",
        "    self.__weight = weight\n",
        "  \n",
        "  def get_name(self):\n",
        "    return self.__name\n",
        "\n",
        "  @property\n",
        "  def set_name(self, name: str):\n",
        "    self.__name = name\n",
        "\n",
        "  def make_noise(self):\n",
        "    return \"Grrrr\"\n",
        "\n",
        "  def __str__(self):\n",
        "    return \"{} is a {} and says {}\".format(self.__name, type(self), self.make_noise())\n",
        "  \n",
        "  # Magic methods: operator overloading\n",
        "  def __gt__(self, other):\n",
        "    if self.__weight > other.__weight:\n",
        "      return True\n",
        "    else:\n",
        "      return False\n",
        "# __eq__ __add__ etc."
      ],
      "metadata": {
        "id": "KbjHApsZ7Lrr"
      },
      "execution_count": null,
      "outputs": []
    },
    {
      "cell_type": "code",
      "source": [
        "animal = Animal(\"Fish\", 100)\n",
        "animal.get_name()\n",
        "print(animal)"
      ],
      "metadata": {
        "id": "BVoCb2ve8VGl"
      },
      "execution_count": null,
      "outputs": []
    },
    {
      "cell_type": "code",
      "source": [
        "class Dog(Animal): # Inherit animal\n",
        "  def __init__(self, name=\"Unknown dog\", owner=\"Uknown owner\", weight=0):\n",
        "    Animal.__init__(self, name, weight) # Use super constructir\n",
        "    self.__owner = owner # Add the owner\n",
        "\n",
        "  def __str__(self):\n",
        "    return super().__str__() + \" and is owned by: {}\".format(self.__owner)"
      ],
      "metadata": {
        "id": "FcWAT2358eXd"
      },
      "execution_count": null,
      "outputs": []
    },
    {
      "cell_type": "code",
      "source": [
        "doggy = Dog(\"Bob\", \"Papa\", 50)\n",
        "print(doggy)\n",
        "print(animal > doggy)\n",
        "\n",
        "# Polymorphism\n",
        "# Functions accept any object, and expect that it's gonna work"
      ],
      "metadata": {
        "id": "IL9eiZsE-zn6"
      },
      "execution_count": null,
      "outputs": []
    },
    {
      "cell_type": "markdown",
      "source": [
        "# Threads"
      ],
      "metadata": {
        "id": "p5yfWHOdCESg"
      }
    },
    {
      "cell_type": "code",
      "source": [
        "import threading\n",
        "import random\n",
        "import time\n",
        "\n",
        "# Define the thread task\n",
        "def execute_thread(i):\n",
        "  print(\"Thread {} sleeps at {}\".format(i, time.strftime(\"%H:%M:%S\"), time.gmtime()))\n",
        "  random_sleep_time = random.randint(1, 5)\n",
        "  time.sleep(random_sleep_time)\n",
        "  print(\"Thread {} stops sleeping at {}\".format(i, time.strftime(\"%H:%M:%S\"), time.gmtime()))\n",
        "\n",
        "# Create threads\n",
        "for i in range(10):\n",
        "  thread = threading.Thread(target=execute_thread, args=(i,))\n",
        "  thread.start() # Thread are open in order\n",
        "  print(\"Active thread:\", threading.activeCount())\n",
        "  #print(\"Thread objects:\", threading.enumerate())"
      ],
      "metadata": {
        "id": "pHNKsycSBkYW"
      },
      "execution_count": null,
      "outputs": []
    },
    {
      "cell_type": "markdown",
      "source": [
        "# Regular expressions"
      ],
      "metadata": {
        "id": "f76iJo6oED_V"
      }
    },
    {
      "cell_type": "code",
      "source": [
        "import re\n",
        "\n",
        "# Is there a match?\n",
        "if re.search(\"ape\", \"The ape at the apex\"):\n",
        "  print(\"There is an ape\")\n",
        "\n",
        "# Get every single match\n",
        "allApes = re.findall(\"ape\", \"The ape at the apex\")\n",
        "for i in allApes:\n",
        "  print(i)\n",
        "\n",
        "# Get an iterator for all the matching objects\n",
        "string = \"The ape at the apex\"\n",
        "for i in re.finditer(\"ape.\", string): # \"ape\" followed by a single character\n",
        "  location = i.span()\n",
        "  print(location)\n",
        "  print(string[location[0]:location[-1]])"
      ],
      "metadata": {
        "id": "PM5i_lqtECFB"
      },
      "execution_count": null,
      "outputs": []
    },
    {
      "cell_type": "markdown",
      "source": [
        "# Database\n",
        "\n",
        "- SQLite"
      ],
      "metadata": {
        "id": "ipVyzfLGFVK0"
      }
    },
    {
      "cell_type": "code",
      "source": [
        "import sqlite3\n",
        "import sys\n",
        "import csv"
      ],
      "metadata": {
        "id": "W6mMPtYDFUki"
      },
      "execution_count": null,
      "outputs": []
    },
    {
      "cell_type": "code",
      "source": [
        "db_conn = sqlite3.connect(\"test.db\") # Create DB if not existing\n",
        "theCursor = db_conn.cursor() # We have a cursor"
      ],
      "metadata": {
        "id": "hALbIydWFo65"
      },
      "execution_count": null,
      "outputs": []
    },
    {
      "cell_type": "code",
      "source": [
        "def print_DB():\n",
        "  try:\n",
        "    result = theCursor.execute(\"SELECT id, FName, LName, Age, Address, Salary, HireDate FROM Employees\")\n",
        "    for row in result:\n",
        "      print(\"ID :\", row[0])\n",
        "      print(\"FName :\", row[1])\n",
        "      print(\"LName :\", row[2])\n",
        "      print(\"Age :\", row[3])\n",
        "      print(\"Address :\", row[4])\n",
        "      print(\"Salary :\", row[5])\n",
        "      print(\"HireDate :\", row[6])\n",
        "  except sqlite3.OperationalError:\n",
        "    print(\"The Table Doesn't Exist\")\n",
        "  except:\n",
        "    print(\"Couldn't Retrieve Data From Database\")\n",
        "\n",
        "# First need to create the table\n",
        "try:\n",
        "  db_conn.execute(\"CREATE TABLE Employees(ID INTEGER PRIMARY KEY AUTOINCREMENT NOT NULL, FName TEXT NOT NULL, LName TEXT NOT NULL, Age INT NOT NULL, Address TEXT, Salary REAL, HireDate TEXT);\")\n",
        "  db_conn.commit()\n",
        "  print(\"Table Created\")\n",
        "except sqlite3.OperationalError:\n",
        "  print(\"Table couldn't be Created\")\n",
        "\n",
        "# Add employee to DB\n",
        "db_conn.execute(\"INSERT INTO Employees (FName, LName, Age, Address, Salary, HireDate) VALUES ('Derek', 'Banas', 41, '123 Main St', '500,000', date('now'))\")\n",
        "db_conn.commit()\n",
        "print_DB()\n",
        "db_conn.execute(\"DROP TABLE IF EXISTS Employees\")\n",
        "db_conn.close()"
      ],
      "metadata": {
        "id": "AYrphz1SCGtx"
      },
      "execution_count": null,
      "outputs": []
    },
    {
      "cell_type": "markdown",
      "source": [
        "# Recursive functions"
      ],
      "metadata": {
        "id": "pc4rx9aCKDYM"
      }
    },
    {
      "cell_type": "code",
      "source": [
        "# Recursive\n",
        "def factorial(num):\n",
        "  if num <= 1:\n",
        "    return 1\n",
        "  else:\n",
        "    result = num * factorial(num - 1)\n",
        "    return result\n",
        "\n",
        "print(factorial(4))"
      ],
      "metadata": {
        "id": "T97RUM-XIunp"
      },
      "execution_count": null,
      "outputs": []
    },
    {
      "cell_type": "code",
      "source": [
        ""
      ],
      "metadata": {
        "id": "4_yTwVnILAPg"
      },
      "execution_count": null,
      "outputs": []
    }
  ],
  "metadata": {
    "colab": {
      "name": "Introduction to Python 3",
      "provenance": [],
      "collapsed_sections": []
    },
    "kernelspec": {
      "display_name": "Python 3",
      "name": "python3"
    }
  },
  "nbformat": 4,
  "nbformat_minor": 0
}
